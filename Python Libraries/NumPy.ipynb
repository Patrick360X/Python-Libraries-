{
 "cells": [
  {
   "cell_type": "markdown",
   "id": "64aa1daf-bfa5-49f8-b662-2fd9ad2e93b4",
   "metadata": {},
   "source": [
    "NumPy Arrays"
   ]
  },
  {
   "cell_type": "code",
   "execution_count": 2,
   "id": "374844e7-805a-4887-872d-3e5e91cb28ec",
   "metadata": {},
   "outputs": [],
   "source": [
    "import numpy as np"
   ]
  },
  {
   "cell_type": "code",
   "execution_count": 4,
   "id": "d4685ad2-34a3-43d7-8bcd-f74ae19d4eca",
   "metadata": {},
   "outputs": [],
   "source": [
    "my_lst = [1,2,3]"
   ]
  },
  {
   "cell_type": "code",
   "execution_count": 16,
   "id": "70173527-5c56-4547-baaf-de478bc83eef",
   "metadata": {},
   "outputs": [],
   "source": [
    "arr1 = np.array(my_lst)"
   ]
  },
  {
   "cell_type": "code",
   "execution_count": 18,
   "id": "a714d012-c03f-41b5-92b2-7d76925f80f3",
   "metadata": {},
   "outputs": [
    {
     "data": {
      "text/plain": [
       "array([1, 2, 3])"
      ]
     },
     "execution_count": 18,
     "metadata": {},
     "output_type": "execute_result"
    }
   ],
   "source": [
    "arr1"
   ]
  },
  {
   "cell_type": "code",
   "execution_count": 10,
   "id": "bb9f52d5-e864-4045-808a-6fa099bf66eb",
   "metadata": {},
   "outputs": [],
   "source": [
    "my_mat = [[1,2,3],[4,5,6],[7,8,9]]"
   ]
  },
  {
   "cell_type": "code",
   "execution_count": 12,
   "id": "19ba9d64-4365-44bd-9852-ac87a736208d",
   "metadata": {},
   "outputs": [],
   "source": [
    "mat1 = np.array(my_mat)"
   ]
  },
  {
   "cell_type": "code",
   "execution_count": 14,
   "id": "981d6867-b6d7-44ab-be12-7415c4d2e65b",
   "metadata": {},
   "outputs": [
    {
     "data": {
      "text/plain": [
       "array([[1, 2, 3],\n",
       "       [4, 5, 6],\n",
       "       [7, 8, 9]])"
      ]
     },
     "execution_count": 14,
     "metadata": {},
     "output_type": "execute_result"
    }
   ],
   "source": [
    "mat1"
   ]
  },
  {
   "cell_type": "code",
   "execution_count": 36,
   "id": "4571f849-8487-4e8d-9dbf-9270e3ed3f83",
   "metadata": {},
   "outputs": [
    {
     "data": {
      "text/plain": [
       "array([ 1,  3,  5,  7,  9, 11, 13, 15, 17, 19, 21, 23, 25, 27, 29, 31, 33,\n",
       "       35, 37, 39, 41, 43, 45, 47, 49, 51, 53, 55, 57, 59, 61, 63, 65, 67,\n",
       "       69, 71, 73, 75, 77, 79, 81, 83, 85, 87, 89, 91, 93, 95, 97, 99])"
      ]
     },
     "execution_count": 36,
     "metadata": {},
     "output_type": "execute_result"
    }
   ],
   "source": [
    "np.arange(1,101,2)  #parameters for arange function (start,end,step up)"
   ]
  },
  {
   "cell_type": "code",
   "execution_count": 24,
   "id": "36570063-a996-4d42-9af8-6d51394d456f",
   "metadata": {},
   "outputs": [
    {
     "data": {
      "text/plain": [
       "array([0., 0., 0., 0.])"
      ]
     },
     "execution_count": 24,
     "metadata": {},
     "output_type": "execute_result"
    }
   ],
   "source": [
    "np.zeros(4)"
   ]
  },
  {
   "cell_type": "code",
   "execution_count": 30,
   "id": "83898ac4-a778-426c-adb6-0128b77383f9",
   "metadata": {},
   "outputs": [
    {
     "data": {
      "text/plain": [
       "array([[0., 0., 0., 0., 0.],\n",
       "       [0., 0., 0., 0., 0.]])"
      ]
     },
     "execution_count": 30,
     "metadata": {},
     "output_type": "execute_result"
    }
   ],
   "source": [
    "np.zeros((2,5)) #first paramter is for rows and second one is for coloumns"
   ]
  },
  {
   "cell_type": "code",
   "execution_count": 32,
   "id": "0bdeef3a-2853-4bcf-9e2a-1a3555df17aa",
   "metadata": {},
   "outputs": [
    {
     "data": {
      "text/plain": [
       "array([1., 1., 1.])"
      ]
     },
     "execution_count": 32,
     "metadata": {},
     "output_type": "execute_result"
    }
   ],
   "source": [
    "np.ones(3)"
   ]
  },
  {
   "cell_type": "code",
   "execution_count": 34,
   "id": "c3b7a2ea-5b8c-4685-9217-af303aec41a8",
   "metadata": {},
   "outputs": [
    {
     "data": {
      "text/plain": [
       "array([[1., 1., 1.],\n",
       "       [1., 1., 1.],\n",
       "       [1., 1., 1.],\n",
       "       [1., 1., 1.]])"
      ]
     },
     "execution_count": 34,
     "metadata": {},
     "output_type": "execute_result"
    }
   ],
   "source": [
    "np.ones((4,3))"
   ]
  },
  {
   "cell_type": "code",
   "execution_count": 60,
   "id": "bedab4c3-08fc-44ea-a43d-5c0edb6b963b",
   "metadata": {},
   "outputs": [
    {
     "data": {
      "text/plain": [
       "array([ 0.,  5., 10.])"
      ]
     },
     "execution_count": 60,
     "metadata": {},
     "output_type": "execute_result"
    }
   ],
   "source": [
    "np.linspace(0,10,3)  # here btw 2 points placed on linear plane it will take 3rd parameter will act as no. of stops between them"
   ]
  },
  {
   "cell_type": "code",
   "execution_count": 64,
   "id": "378ab56c-b7af-471d-9d65-a40c3d31f9f4",
   "metadata": {},
   "outputs": [
    {
     "data": {
      "text/plain": [
       "array([[1., 0., 0., 0.],\n",
       "       [0., 1., 0., 0.],\n",
       "       [0., 0., 1., 0.],\n",
       "       [0., 0., 0., 1.]])"
      ]
     },
     "execution_count": 64,
     "metadata": {},
     "output_type": "execute_result"
    }
   ],
   "source": [
    "# Identity Matrices \n",
    "\n",
    "np.eye(4)"
   ]
  },
  {
   "cell_type": "code",
   "execution_count": 70,
   "id": "e096bc2c-f336-49f5-b393-6dae498107a7",
   "metadata": {},
   "outputs": [
    {
     "data": {
      "text/plain": [
       "array([0.72760305, 0.60648526, 0.81518314, 0.19283311, 0.15045591])"
      ]
     },
     "execution_count": 70,
     "metadata": {},
     "output_type": "execute_result"
    }
   ],
   "source": [
    "np.random.rand(5)"
   ]
  },
  {
   "cell_type": "code",
   "execution_count": 78,
   "id": "349933e5-211e-4200-b193-877727ca8dea",
   "metadata": {},
   "outputs": [
    {
     "data": {
      "text/plain": [
       "array([[0.19314163, 0.88633545, 0.01039711],\n",
       "       [0.83003009, 0.20942406, 0.88324293],\n",
       "       [0.31834383, 0.20752845, 0.97805984],\n",
       "       [0.16535144, 0.44956785, 0.3244171 ],\n",
       "       [0.52989356, 0.73666856, 0.92795155]])"
      ]
     },
     "execution_count": 78,
     "metadata": {},
     "output_type": "execute_result"
    }
   ],
   "source": [
    "np.random.rand(5,3)   # 2 parameters will give me a 2D array with random values"
   ]
  },
  {
   "cell_type": "code",
   "execution_count": 80,
   "id": "4a422c53-12c3-4d91-9503-84369ee303c3",
   "metadata": {},
   "outputs": [
    {
     "data": {
      "text/plain": [
       "array([-1.87934202,  0.30884021, -0.85470336])"
      ]
     },
     "execution_count": 80,
     "metadata": {},
     "output_type": "execute_result"
    }
   ],
   "source": [
    "np.random.randn(3)"
   ]
  },
  {
   "cell_type": "code",
   "execution_count": 82,
   "id": "a00548fb-0f01-4c5c-a18d-81b23356bd5e",
   "metadata": {},
   "outputs": [
    {
     "data": {
      "text/plain": [
       "array([[ 0.19953331,  0.78756081, -0.18663676],\n",
       "       [-0.18050586, -1.43064467, -0.28716691]])"
      ]
     },
     "execution_count": 82,
     "metadata": {},
     "output_type": "execute_result"
    }
   ],
   "source": [
    "np.random.randn(2,3)"
   ]
  },
  {
   "cell_type": "code",
   "execution_count": 86,
   "id": "85a35098-f48a-47db-942e-4626081b5071",
   "metadata": {},
   "outputs": [
    {
     "data": {
      "text/plain": [
       "array([37, 25])"
      ]
     },
     "execution_count": 86,
     "metadata": {},
     "output_type": "execute_result"
    }
   ],
   "source": [
    "np.random.randint(1,101,2) # 3rd argument will be no. of values to be selected on a random basis between inclusive starting and exclusive ending range"
   ]
  },
  {
   "cell_type": "markdown",
   "id": "b1cd54c4-9e72-43f4-9b29-37f334427c47",
   "metadata": {},
   "source": [
    "Reshape an array"
   ]
  },
  {
   "cell_type": "code",
   "execution_count": 91,
   "id": "4d09e8c2-f87d-411f-a6e9-73c47a9064f9",
   "metadata": {},
   "outputs": [
    {
     "data": {
      "text/plain": [
       "array([ 0,  1,  2,  3,  4,  5,  6,  7,  8,  9, 10, 11, 12, 13, 14, 15, 16,\n",
       "       17, 18, 19, 20, 21, 22, 23, 24])"
      ]
     },
     "execution_count": 91,
     "metadata": {},
     "output_type": "execute_result"
    }
   ],
   "source": [
    "arr = np.arange(25)\n",
    "arr"
   ]
  },
  {
   "cell_type": "code",
   "execution_count": 95,
   "id": "1b629919-e233-4772-983b-5c382902990a",
   "metadata": {},
   "outputs": [
    {
     "data": {
      "text/plain": [
       "array([ 6,  5, 30, 39, 31, 12,  6, 18, 14,  1])"
      ]
     },
     "execution_count": 95,
     "metadata": {},
     "output_type": "execute_result"
    }
   ],
   "source": [
    "random_arr = np.random.randint(1,50,10)\n",
    "random_arr"
   ]
  },
  {
   "cell_type": "code",
   "execution_count": 103,
   "id": "8d7aaae6-7c51-4b6f-876d-d1406ba847af",
   "metadata": {},
   "outputs": [
    {
     "data": {
      "text/plain": [
       "array([[ 0,  1,  2,  3,  4],\n",
       "       [ 5,  6,  7,  8,  9],\n",
       "       [10, 11, 12, 13, 14],\n",
       "       [15, 16, 17, 18, 19],\n",
       "       [20, 21, 22, 23, 24]])"
      ]
     },
     "execution_count": 103,
     "metadata": {},
     "output_type": "execute_result"
    }
   ],
   "source": [
    "arr.reshape(5,5)  # here we cannot reshape an array beyond it's total no. of elements"
   ]
  },
  {
   "cell_type": "code",
   "execution_count": 105,
   "id": "e7a065b2-7801-40a4-a2c5-d4d2e0f84b2a",
   "metadata": {},
   "outputs": [
    {
     "data": {
      "text/plain": [
       "array([[ 6,  5, 30, 39, 31],\n",
       "       [12,  6, 18, 14,  1]])"
      ]
     },
     "execution_count": 105,
     "metadata": {},
     "output_type": "execute_result"
    }
   ],
   "source": [
    "random_arr.reshape(2,5)"
   ]
  },
  {
   "cell_type": "code",
   "execution_count": 119,
   "id": "45bb1971-1a86-4698-a9ec-c0e8c12385cc",
   "metadata": {},
   "outputs": [
    {
     "data": {
      "text/plain": [
       "39"
      ]
     },
     "execution_count": 119,
     "metadata": {},
     "output_type": "execute_result"
    }
   ],
   "source": [
    "# Max and Min in an array\n",
    "\n",
    "random_arr.max()"
   ]
  },
  {
   "cell_type": "code",
   "execution_count": 109,
   "id": "77c3d958-82ad-4909-9e68-a353086da349",
   "metadata": {},
   "outputs": [
    {
     "data": {
      "text/plain": [
       "1"
      ]
     },
     "execution_count": 109,
     "metadata": {},
     "output_type": "execute_result"
    }
   ],
   "source": [
    "random_arr.min()"
   ]
  },
  {
   "cell_type": "code",
   "execution_count": 117,
   "id": "18cf66d3-2ce8-497c-822c-90c69cff0e46",
   "metadata": {},
   "outputs": [
    {
     "data": {
      "text/plain": [
       "3"
      ]
     },
     "execution_count": 117,
     "metadata": {},
     "output_type": "execute_result"
    }
   ],
   "source": [
    "random_arr.argmax()  # this will return the index of max element in an array"
   ]
  },
  {
   "cell_type": "code",
   "execution_count": 115,
   "id": "0fc4f9ed-cd0b-4d21-a08b-840b48d009a6",
   "metadata": {},
   "outputs": [
    {
     "data": {
      "text/plain": [
       "9"
      ]
     },
     "execution_count": 115,
     "metadata": {},
     "output_type": "execute_result"
    }
   ],
   "source": [
    "random_arr.argmin()"
   ]
  },
  {
   "cell_type": "code",
   "execution_count": 121,
   "id": "74e2994e-bcdd-4e2e-a555-575a0bc27280",
   "metadata": {},
   "outputs": [
    {
     "data": {
      "text/plain": [
       "array([[ 0,  1,  2,  3,  4],\n",
       "       [ 5,  6,  7,  8,  9],\n",
       "       [10, 11, 12, 13, 14],\n",
       "       [15, 16, 17, 18, 19],\n",
       "       [20, 21, 22, 23, 24]])"
      ]
     },
     "execution_count": 121,
     "metadata": {},
     "output_type": "execute_result"
    }
   ],
   "source": [
    "# to convert a 1D array to 2D array\n",
    "\n",
    "arr = arr.reshape(5,5)\n",
    "arr"
   ]
  },
  {
   "cell_type": "code",
   "execution_count": 125,
   "id": "04dbb07a-8bbc-4466-8fe4-bad4163248d6",
   "metadata": {},
   "outputs": [
    {
     "data": {
      "text/plain": [
       "(5, 5)"
      ]
     },
     "execution_count": 125,
     "metadata": {},
     "output_type": "execute_result"
    }
   ],
   "source": [
    "arr.shape  # now arr is converted as a 2D array"
   ]
  },
  {
   "cell_type": "code",
   "execution_count": 127,
   "id": "540c537c-4025-48f2-a82f-10eb8ab1a78e",
   "metadata": {},
   "outputs": [
    {
     "data": {
      "text/plain": [
       "dtype('int32')"
      ]
     },
     "execution_count": 127,
     "metadata": {},
     "output_type": "execute_result"
    }
   ],
   "source": [
    "# to Know the datatype of elements in an array\n",
    "\n",
    "arr.dtype"
   ]
  },
  {
   "cell_type": "raw",
   "id": "a5bcc305-9ddc-4825-9fa2-1c4a7e99014a",
   "metadata": {},
   "source": [
    "NumPy Array Indexing and Selection"
   ]
  },
  {
   "cell_type": "code",
   "execution_count": 129,
   "id": "138ed829-906a-426c-8a38-14f01c068d39",
   "metadata": {},
   "outputs": [],
   "source": [
    "arr1 = np.arange(0,11)"
   ]
  },
  {
   "cell_type": "code",
   "execution_count": 131,
   "id": "fa975bac-d13a-43e6-ae93-b48f69a0cecc",
   "metadata": {},
   "outputs": [
    {
     "data": {
      "text/plain": [
       "array([ 0,  1,  2,  3,  4,  5,  6,  7,  8,  9, 10])"
      ]
     },
     "execution_count": 131,
     "metadata": {},
     "output_type": "execute_result"
    }
   ],
   "source": [
    "arr1"
   ]
  },
  {
   "cell_type": "code",
   "execution_count": 133,
   "id": "5287464d-1823-40b4-bf89-1da75c478f4e",
   "metadata": {},
   "outputs": [
    {
     "data": {
      "text/plain": [
       "3"
      ]
     },
     "execution_count": 133,
     "metadata": {},
     "output_type": "execute_result"
    }
   ],
   "source": [
    "arr1[3]"
   ]
  },
  {
   "cell_type": "code",
   "execution_count": 137,
   "id": "babc0c7f-d3d9-4a82-8e3d-8250c9481110",
   "metadata": {},
   "outputs": [
    {
     "data": {
      "text/plain": [
       "array([2, 3, 4, 5, 6])"
      ]
     },
     "execution_count": 137,
     "metadata": {},
     "output_type": "execute_result"
    }
   ],
   "source": [
    "arr1[2:7]"
   ]
  },
  {
   "cell_type": "code",
   "execution_count": 143,
   "id": "734cbb57-3184-4378-910d-d373fba2e749",
   "metadata": {},
   "outputs": [
    {
     "data": {
      "text/plain": [
       "array([ 3,  4,  5,  6,  7,  8,  9, 10])"
      ]
     },
     "execution_count": 143,
     "metadata": {},
     "output_type": "execute_result"
    }
   ],
   "source": [
    "arr1[3:]"
   ]
  },
  {
   "cell_type": "code",
   "execution_count": 145,
   "id": "e12251d6-56cf-43cb-bf22-8f16c192389c",
   "metadata": {},
   "outputs": [],
   "source": [
    "arr1[:5] = 100"
   ]
  },
  {
   "cell_type": "code",
   "execution_count": 147,
   "id": "4559b126-4e0d-4999-b2a1-ef6705068455",
   "metadata": {},
   "outputs": [
    {
     "data": {
      "text/plain": [
       "array([100, 100, 100, 100, 100,   5,   6,   7,   8,   9,  10])"
      ]
     },
     "execution_count": 147,
     "metadata": {},
     "output_type": "execute_result"
    }
   ],
   "source": [
    "arr1"
   ]
  },
  {
   "cell_type": "code",
   "execution_count": 151,
   "id": "464f1dec-e39d-46dd-ab9e-c46730faaa67",
   "metadata": {},
   "outputs": [],
   "source": [
    "arr1 = np.arange(0,11)"
   ]
  },
  {
   "cell_type": "code",
   "execution_count": 153,
   "id": "092c679f-785c-4d4e-8f05-13c2b8ab5223",
   "metadata": {},
   "outputs": [
    {
     "data": {
      "text/plain": [
       "array([ 0,  1,  2,  3,  4,  5,  6,  7,  8,  9, 10])"
      ]
     },
     "execution_count": 153,
     "metadata": {},
     "output_type": "execute_result"
    }
   ],
   "source": [
    "arr1"
   ]
  },
  {
   "cell_type": "code",
   "execution_count": 155,
   "id": "e44d5b9e-292d-46f3-86da-6fa009c00115",
   "metadata": {},
   "outputs": [],
   "source": [
    "arr2 = arr1[:6]"
   ]
  },
  {
   "cell_type": "code",
   "execution_count": 157,
   "id": "bc7598fa-be66-45b6-86b0-193bcd62dcff",
   "metadata": {},
   "outputs": [
    {
     "data": {
      "text/plain": [
       "array([0, 1, 2, 3, 4, 5])"
      ]
     },
     "execution_count": 157,
     "metadata": {},
     "output_type": "execute_result"
    }
   ],
   "source": [
    "arr2"
   ]
  },
  {
   "cell_type": "code",
   "execution_count": 159,
   "id": "407ed81a-825d-439c-a210-889534e7d69c",
   "metadata": {},
   "outputs": [],
   "source": [
    "arr2[:] = 2"
   ]
  },
  {
   "cell_type": "code",
   "execution_count": 163,
   "id": "bad9b86b-ca19-473b-9854-de51756aac42",
   "metadata": {},
   "outputs": [
    {
     "data": {
      "text/plain": [
       "array([2, 2, 2, 2, 2, 2])"
      ]
     },
     "execution_count": 163,
     "metadata": {},
     "output_type": "execute_result"
    }
   ],
   "source": [
    "arr2"
   ]
  },
  {
   "cell_type": "code",
   "execution_count": 167,
   "id": "4c8b731f-265d-4b6f-b95b-3f45ea2daf65",
   "metadata": {},
   "outputs": [
    {
     "data": {
      "text/plain": [
       "array([ 2,  2,  2,  2,  2,  2,  6,  7,  8,  9, 10])"
      ]
     },
     "execution_count": 167,
     "metadata": {},
     "output_type": "execute_result"
    }
   ],
   "source": [
    "arr1   # here it has changed the values of orginal array elements"
   ]
  },
  {
   "cell_type": "code",
   "execution_count": 179,
   "id": "f96a9fdb-eb88-4321-9684-807fef54ebe6",
   "metadata": {},
   "outputs": [],
   "source": [
    "arr1_copy = arr1.copy()   # make use of this coopy function to avoid above problem"
   ]
  },
  {
   "cell_type": "code",
   "execution_count": 181,
   "id": "2501f69d-2555-4c32-aab9-9e3d43897294",
   "metadata": {},
   "outputs": [
    {
     "data": {
      "text/plain": [
       "array([ 2,  2,  2,  2,  2,  2,  6,  7,  8,  9, 10])"
      ]
     },
     "execution_count": 181,
     "metadata": {},
     "output_type": "execute_result"
    }
   ],
   "source": [
    "arr1_copy"
   ]
  },
  {
   "cell_type": "code",
   "execution_count": 183,
   "id": "4a1323ce-aaa1-4c26-981b-b19be524d985",
   "metadata": {},
   "outputs": [],
   "source": [
    "arr1_copy[:3] = 4"
   ]
  },
  {
   "cell_type": "code",
   "execution_count": 185,
   "id": "cef9bd54-99b5-40e1-a415-a8abfa03623c",
   "metadata": {},
   "outputs": [
    {
     "data": {
      "text/plain": [
       "array([ 4,  4,  4,  2,  2,  2,  6,  7,  8,  9, 10])"
      ]
     },
     "execution_count": 185,
     "metadata": {},
     "output_type": "execute_result"
    }
   ],
   "source": [
    "arr1_copy"
   ]
  },
  {
   "cell_type": "code",
   "execution_count": 187,
   "id": "1518ad2b-be79-4a77-85e4-eb301cf3eacc",
   "metadata": {},
   "outputs": [
    {
     "data": {
      "text/plain": [
       "array([ 2,  2,  2,  2,  2,  2,  6,  7,  8,  9, 10])"
      ]
     },
     "execution_count": 187,
     "metadata": {},
     "output_type": "execute_result"
    }
   ],
   "source": [
    "arr1"
   ]
  },
  {
   "cell_type": "code",
   "execution_count": 199,
   "id": "cbba597f-f5d9-402f-b5ed-556fffedd7e8",
   "metadata": {},
   "outputs": [],
   "source": [
    "arr_2d = arr.copy()"
   ]
  },
  {
   "cell_type": "code",
   "execution_count": 201,
   "id": "8a8e9c14-c435-4a8c-bb66-8627b7183dca",
   "metadata": {},
   "outputs": [
    {
     "data": {
      "text/plain": [
       "12"
      ]
     },
     "execution_count": 201,
     "metadata": {},
     "output_type": "execute_result"
    }
   ],
   "source": [
    "arr_2d[2][2]  # to find element index at this position in 2D array using double square brackets"
   ]
  },
  {
   "cell_type": "code",
   "execution_count": 195,
   "id": "5666067b-cba6-4a0a-9bc6-a702aaedaf7d",
   "metadata": {},
   "outputs": [],
   "source": [
    "# or else we can also use comma seperated args passed as row and column respectively as below"
   ]
  },
  {
   "cell_type": "code",
   "execution_count": 203,
   "id": "19601646-cab8-461b-84d1-0ada6411a38b",
   "metadata": {},
   "outputs": [
    {
     "data": {
      "text/plain": [
       "11"
      ]
     },
     "execution_count": 203,
     "metadata": {},
     "output_type": "execute_result"
    }
   ],
   "source": [
    "arr_2d[2,1]"
   ]
  },
  {
   "cell_type": "code",
   "execution_count": 207,
   "id": "8e30ac2f-0a14-42a1-842e-997f3d65ee2b",
   "metadata": {},
   "outputs": [
    {
     "data": {
      "text/plain": [
       "array([[ 0,  1,  2,  3,  4],\n",
       "       [ 5,  6,  7,  8,  9],\n",
       "       [10, 11, 12, 13, 14],\n",
       "       [15, 16, 17, 18, 19],\n",
       "       [20, 21, 22, 23, 24]])"
      ]
     },
     "execution_count": 207,
     "metadata": {},
     "output_type": "execute_result"
    }
   ],
   "source": [
    "arr_2d"
   ]
  },
  {
   "cell_type": "code",
   "execution_count": 215,
   "id": "1b3d277d-0e96-45e2-b4f3-6b4d03e7da12",
   "metadata": {},
   "outputs": [
    {
     "data": {
      "text/plain": [
       "array([[13, 14],\n",
       "       [18, 19],\n",
       "       [23, 24]])"
      ]
     },
     "execution_count": 215,
     "metadata": {},
     "output_type": "execute_result"
    }
   ],
   "source": [
    "arr_2d[2:,3:]"
   ]
  },
  {
   "cell_type": "code",
   "execution_count": 221,
   "id": "d4e29e04-355d-41b2-a6b8-d58f4978498f",
   "metadata": {},
   "outputs": [],
   "source": [
    "# Conditional Selection"
   ]
  },
  {
   "cell_type": "code",
   "execution_count": 241,
   "id": "7f183282-8bb6-4d24-8dc0-bf31895120fa",
   "metadata": {},
   "outputs": [],
   "source": [
    "arr_rand = np.random.randint(1,11,10)"
   ]
  },
  {
   "cell_type": "code",
   "execution_count": 243,
   "id": "e0c74e1c-d157-4f6b-876a-5563ee2514bb",
   "metadata": {},
   "outputs": [
    {
     "data": {
      "text/plain": [
       "array([5, 2, 8, 8, 7, 9, 7, 6, 3, 3])"
      ]
     },
     "execution_count": 243,
     "metadata": {},
     "output_type": "execute_result"
    }
   ],
   "source": [
    "arr_rand"
   ]
  },
  {
   "cell_type": "code",
   "execution_count": 247,
   "id": "b7e88cc4-2994-4ef2-a7b0-0e64f9c4fc29",
   "metadata": {},
   "outputs": [],
   "source": [
    "bool_arr = arr_rand > 3"
   ]
  },
  {
   "cell_type": "code",
   "execution_count": 249,
   "id": "40420847-466b-45f1-92f3-7d8166c5abe8",
   "metadata": {},
   "outputs": [
    {
     "data": {
      "text/plain": [
       "array([ True, False,  True,  True,  True,  True,  True,  True, False,\n",
       "       False])"
      ]
     },
     "execution_count": 249,
     "metadata": {},
     "output_type": "execute_result"
    }
   ],
   "source": [
    "bool_arr"
   ]
  },
  {
   "cell_type": "code",
   "execution_count": 251,
   "id": "a7cae7be-c81b-4c92-881b-1ae7ae439009",
   "metadata": {},
   "outputs": [
    {
     "data": {
      "text/plain": [
       "array([5, 8, 8, 7, 9, 7, 6])"
      ]
     },
     "execution_count": 251,
     "metadata": {},
     "output_type": "execute_result"
    }
   ],
   "source": [
    "arr_rand[bool_arr]"
   ]
  },
  {
   "cell_type": "code",
   "execution_count": 253,
   "id": "4d86b297-dcf3-40f3-8c8a-7888118a9d04",
   "metadata": {},
   "outputs": [
    {
     "data": {
      "text/plain": [
       "array([8, 8, 7, 9, 7])"
      ]
     },
     "execution_count": 253,
     "metadata": {},
     "output_type": "execute_result"
    }
   ],
   "source": [
    "# or else we can use this in short hand as below\n",
    "\n",
    "arr_rand[arr_rand > 6]"
   ]
  },
  {
   "cell_type": "code",
   "execution_count": 255,
   "id": "66ff2f0e-c7eb-4b67-85ab-6e62674f2719",
   "metadata": {},
   "outputs": [
    {
     "data": {
      "text/plain": [
       "array([2, 3, 3])"
      ]
     },
     "execution_count": 255,
     "metadata": {},
     "output_type": "execute_result"
    }
   ],
   "source": [
    "arr_rand[arr_rand<5]"
   ]
  },
  {
   "cell_type": "code",
   "execution_count": null,
   "id": "dddd7afd-8ca1-4e2b-b185-7150e4c4eca5",
   "metadata": {},
   "outputs": [],
   "source": []
  }
 ],
 "metadata": {
  "kernelspec": {
   "display_name": "Python 3 (ipykernel)",
   "language": "python",
   "name": "python3"
  },
  "language_info": {
   "codemirror_mode": {
    "name": "ipython",
    "version": 3
   },
   "file_extension": ".py",
   "mimetype": "text/x-python",
   "name": "python",
   "nbconvert_exporter": "python",
   "pygments_lexer": "ipython3",
   "version": "3.12.4"
  }
 },
 "nbformat": 4,
 "nbformat_minor": 5
}
